{
 "cells": [
  {
   "cell_type": "code",
   "execution_count": 67,
   "id": "a82b7bfe",
   "metadata": {},
   "outputs": [],
   "source": [
    "from flask import Flask, jsonify\n",
    "import pandas as pd\n",
    "import numpy as np\n",
    "from sklearn.metrics.pairwise import cosine_similarity"
   ]
  },
  {
   "cell_type": "code",
   "execution_count": 68,
   "id": "2323fbbb",
   "metadata": {},
   "outputs": [],
   "source": [
    "df = pd.read_csv('comment.csv')\n"
   ]
  },
  {
   "cell_type": "code",
   "execution_count": 73,
   "id": "f71c4ff7",
   "metadata": {},
   "outputs": [],
   "source": [
    "def resolve_product_id(df,product_code):\n",
    "    selected_columns = ['user_id', 'product_id', 'rating']\n",
    "    new_df = df[selected_columns]\n",
    "    new_df = new_df.drop_duplicates(['user_id', 'product_id', 'rating'])\n",
    "    # Create a DataFrame with the category codes and corresponding product IDs\n",
    "    df['product_id'] = df['product_id'].astype('category')\n",
    "    df['product_code'] = df['product_id'].cat.codes + 1\n",
    "    categories = df['product_id'].cat.categories\n",
    "    df['product_id_resolved'] = categories[df['product_code'] - 1]\n",
    "    # Filter the DataFrame based on the input product_code\n",
    "    resolved_product_id = df.loc[df['product_code'] == product_code, 'product_id_resolved'].values[0]\n",
    "    return resolved_product_id\n",
    "def find_hash_user_id(df, resolved_user_id):\n",
    "    df['user_id'] = df['user_id'].astype('category')\n",
    "    df['user_code'] = df['user_id'].cat.codes + 1\n",
    "    categories = df['user_id'].cat.categories\n",
    "    df['user_id_resolved'] = categories[df['user_code'] - 1]\n",
    "    # Filter the DataFrame based on the input resolved_user_id\n",
    "    user_code = df.loc[df['user_id_resolved'] == resolved_user_id, 'user_code'].values[0]\n",
    "    return user_code\n",
    "\n",
    "def recommend_products(original_user_id):\n",
    "    selected_columns = ['user_id', 'product_id', 'rating']\n",
    "    new_df = df[selected_columns]\n",
    "    new_df = new_df.drop_duplicates(['user_id', 'product_id', 'rating'])\n",
    "    new_df['rating'] = new_df['rating'].astype(float)  # Convert rating column to float\n",
    "    \n",
    "    clone_df = df\n",
    "    # Reset user_id and product_id to sequential numbers starting from 1\n",
    "    new_df['user_id'] = new_df['user_id'].astype('category').cat.codes + 1\n",
    "    new_df['product_id'] = new_df['product_id'].astype('category').cat.codes + 1\n",
    "    new_df = new_df.sort_values('user_id')\n",
    "    pivot_df = new_df.pivot(index='user_id', columns='product_id', values='rating')\n",
    "    # Reset the column names\n",
    "    pivot_df.columns.name = None\n",
    "    # Reset the index name\n",
    "    pivot_df.index.name = None\n",
    "    # Calculate the average rating for each product\n",
    "    product_avg = pivot_df.mean(axis=0)\n",
    "    # Fill NaN values with 0\n",
    "    pivot_df = pivot_df.fillna(0)\n",
    "    # Calculate the user-product matrix by subtracting the product average from each rating\n",
    "    matrix_avg = pivot_df.sub(product_avg, axis=1)\n",
    "    # Calculate the cosine similarity matrix\n",
    "    similarity = cosine_similarity(matrix_avg)\n",
    "    \n",
    "    user_id = find_hash_user_id(df,original_user_id)\n",
    "    # Get the row of the similarity matrix corresponding to the user\n",
    "    user_similarity = similarity[user_id-1]\n",
    "    # Find the top n similar users\n",
    "    similar_users = user_similarity.argsort()[:-2-1:-1]\n",
    "    # Find the products that the user has not rated\n",
    "    unrated_products = pivot_df.loc[user_id][pivot_df.loc[user_id] == 0].index\n",
    "    # Calculate the predicted rating for each unrated product\n",
    "    product_predictions = {}\n",
    "    for product in unrated_products:\n",
    "        product_ratings = matrix_avg[product].values\n",
    "        # Only consider ratings from similar users\n",
    "        similar_ratings = product_ratings[similar_users]\n",
    "        # Ignore ratings of 0 (unrated products)\n",
    "        similar_ratings = similar_ratings[similar_ratings != 0]\n",
    "        if len(similar_ratings) > 0:\n",
    "            # Calculate the predicted rating as the weighted average of similar ratings\n",
    "            weights = user_similarity[similar_users][similar_ratings.nonzero()]\n",
    "            prediction = (similar_ratings * weights).sum() / weights.sum()\n",
    "            product_predictions[product] = prediction\n",
    "    # Return the top n predicted products\n",
    "    recommended_products = sorted(\n",
    "        product_predictions, key=product_predictions.get, reverse=True)\n",
    "    # return recommended_products\n",
    "    result = []\n",
    "    for value in recommended_products:\n",
    "        result.append(resolve_product_id(clone_df,value)) \n",
    "\n",
    "    return result\n"
   ]
  },
  {
   "cell_type": "code",
   "execution_count": 93,
   "id": "3e58aa22",
   "metadata": {},
   "outputs": [
    {
     "name": "stdout",
     "output_type": "stream",
     "text": [
      "User id 1 recommend: 3, 15\n",
      "User id 2 recommend: 2, 5, 15\n",
      "User id 3 recommend: 2, 15\n",
      "User id 4 recommend: 3, 2, 5, 1, 15\n",
      "User id 5 recommend: 3, 2, 5, 15\n",
      "User id 6 recommend: 4, 5, 1, 15\n",
      "User id 8 recommend: 2, 5, 1\n",
      "User id 12 recommend: 3, 2, 5, 1, 4\n"
     ]
    }
   ],
   "source": [
    "encountered_values = set()\n",
    "\n",
    "# Iterate over rows\n",
    "for _, row in df.iterrows():\n",
    "    user_id_value = row['user_id']\n",
    "    \n",
    "    # Check if value has been encountered before\n",
    "    if user_id_value not in encountered_values:\n",
    "        recommended_products = recommend_products(user_id_value)\n",
    "        recommended_products_str = ', '.join(str(product) for product in recommended_products)  # Convert each element to string\n",
    "        \n",
    "        print(\"User id \" + str(user_id_value) + \" recommend: \" + recommended_products_str)\n",
    "        encountered_values.add(user_id_value)\n"
   ]
  },
  {
   "cell_type": "code",
   "execution_count": 81,
   "id": "ec9835f3",
   "metadata": {},
   "outputs": [
    {
     "data": {
      "text/plain": [
       "[3, 2, 5, 1, 4]"
      ]
     },
     "execution_count": 81,
     "metadata": {},
     "output_type": "execute_result"
    }
   ],
   "source": []
  },
  {
   "cell_type": "code",
   "execution_count": null,
   "id": "ba21489b",
   "metadata": {},
   "outputs": [],
   "source": []
  },
  {
   "cell_type": "code",
   "execution_count": null,
   "id": "1cdec53d",
   "metadata": {},
   "outputs": [],
   "source": []
  },
  {
   "cell_type": "code",
   "execution_count": null,
   "id": "4bb5db13",
   "metadata": {},
   "outputs": [],
   "source": []
  },
  {
   "cell_type": "code",
   "execution_count": null,
   "id": "6e42390b",
   "metadata": {},
   "outputs": [],
   "source": []
  }
 ],
 "metadata": {
  "kernelspec": {
   "display_name": "Python 3 (ipykernel)",
   "language": "python",
   "name": "python3"
  },
  "language_info": {
   "codemirror_mode": {
    "name": "ipython",
    "version": 3
   },
   "file_extension": ".py",
   "mimetype": "text/x-python",
   "name": "python",
   "nbconvert_exporter": "python",
   "pygments_lexer": "ipython3",
   "version": "3.10.7"
  }
 },
 "nbformat": 4,
 "nbformat_minor": 5
}
