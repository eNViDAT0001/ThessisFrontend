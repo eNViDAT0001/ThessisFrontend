{
 "cells": [
  {
   "cell_type": "code",
   "execution_count": 17,
   "id": "a82b7bfe",
   "metadata": {},
   "outputs": [],
   "source": [
    "from flask import Flask, jsonify\n",
    "import pandas as pd\n",
    "import numpy as np\n",
    "from sklearn.metrics.pairwise import cosine_similarity"
   ]
  },
  {
   "cell_type": "code",
   "execution_count": 18,
   "id": "2323fbbb",
   "metadata": {},
   "outputs": [],
   "source": [
    "df = pd.read_csv('comment.csv')\n"
   ]
  },
  {
   "cell_type": "code",
   "execution_count": 19,
   "id": "f71c4ff7",
   "metadata": {},
   "outputs": [],
   "source": [
    "def recommend_products(user_id):\n",
    "    selected_columns = ['user_id', 'product_id', 'rating']\n",
    "    new_df = df[selected_columns]\n",
    "    new_df = new_df.drop_duplicates(['user_id', 'product_id', 'rating'])\n",
    "    new_df['rating'] = new_df['rating'].astype(float)  # Convert rating column to float\n",
    "    # Reset user_id and product_id to sequential numbers starting from 1\n",
    "    new_df['user_id'] = new_df['user_id'].astype('category').cat.codes + 1\n",
    "    new_df['product_id'] = new_df['product_id'].astype('category').cat.codes + 1\n",
    "    new_df = new_df.sort_values('user_id')\n",
    "    pivot_df = new_df.pivot(index='user_id', columns='product_id', values='rating')\n",
    "    # Reset the column names\n",
    "    pivot_df.columns.name = None\n",
    "    # Reset the index name\n",
    "    pivot_df.index.name = None\n",
    "    # Calculate the average rating for each product\n",
    "    product_avg = pivot_df.mean(axis=0)\n",
    "    # Fill NaN values with 0\n",
    "    pivot_df = pivot_df.fillna(0)\n",
    "    # Calculate the user-product matrix by subtracting the product average from each rating\n",
    "    matrix_avg = pivot_df.sub(product_avg, axis=1)\n",
    "    # Calculate the cosine similarity matrix\n",
    "    similarity = cosine_similarity(matrix_avg)\n",
    "    # Get the row of the similarity matrix corresponding to the user\n",
    "    user_similarity = similarity[user_id-1]\n",
    "    # Find the top n similar users\n",
    "    similar_users = user_similarity.argsort()[:-2-1:-1]\n",
    "    # Find the products that the user has not rated\n",
    "    unrated_products = pivot_df.loc[user_id][pivot_df.loc[user_id] == 0].index\n",
    "    # Calculate the predicted rating for each unrated product\n",
    "    product_predictions = {}\n",
    "    for product in unrated_products:\n",
    "        product_ratings = matrix_avg[product].values\n",
    "        # Only consider ratings from similar users\n",
    "        similar_ratings = product_ratings[similar_users]\n",
    "        # Ignore ratings of 0 (unrated products)\n",
    "        similar_ratings = similar_ratings[similar_ratings != 0]\n",
    "        if len(similar_ratings) > 0:\n",
    "            # Calculate the predicted rating as the weighted average of similar ratings\n",
    "            weights = user_similarity[similar_users][similar_ratings.nonzero()]\n",
    "            prediction = (similar_ratings * weights).sum() / weights.sum()\n",
    "            product_predictions[product] = prediction\n",
    "    # Return the top n predicted products\n",
    "    recommended_products = sorted(\n",
    "        product_predictions, key=product_predictions.get, reverse=True)\n",
    "    # return recommended_products\n",
    "    return recommended_products\n"
   ]
  },
  {
   "cell_type": "code",
   "execution_count": 20,
   "id": "3e58aa22",
   "metadata": {},
   "outputs": [
    {
     "name": "stdout",
     "output_type": "stream",
     "text": [
      "User ID: 1, Recommended Products: [3]\n",
      "User ID: 2, Recommended Products: [2, 5]\n",
      "User ID: 3, Recommended Products: [2]\n",
      "User ID: 4, Recommended Products: [3, 2, 1, 5]\n",
      "User ID: 5, Recommended Products: [3, 2, 5]\n",
      "User ID: 6, Recommended Products: [4, 1, 5]\n",
      "User ID: 7, Recommended Products: [1, 2]\n"
     ]
    }
   ],
   "source": [
    "for i in range(1, 8):\n",
    "    recommended_products = recommend_products(i)\n",
    "    print(f\"User ID: {i}, Recommended Products: {recommended_products}\")"
   ]
  },
  {
   "cell_type": "code",
   "execution_count": null,
   "id": "ba21489b",
   "metadata": {},
   "outputs": [],
   "source": []
  },
  {
   "cell_type": "code",
   "execution_count": null,
   "id": "1cdec53d",
   "metadata": {},
   "outputs": [],
   "source": []
  },
  {
   "cell_type": "code",
   "execution_count": null,
   "id": "4bb5db13",
   "metadata": {},
   "outputs": [],
   "source": []
  },
  {
   "cell_type": "code",
   "execution_count": null,
   "id": "6e42390b",
   "metadata": {},
   "outputs": [],
   "source": []
  }
 ],
 "metadata": {
  "kernelspec": {
   "display_name": "Python 3 (ipykernel)",
   "language": "python",
   "name": "python3"
  },
  "language_info": {
   "codemirror_mode": {
    "name": "ipython",
    "version": 3
   },
   "file_extension": ".py",
   "mimetype": "text/x-python",
   "name": "python",
   "nbconvert_exporter": "python",
   "pygments_lexer": "ipython3",
   "version": "3.10.7"
  }
 },
 "nbformat": 4,
 "nbformat_minor": 5
}
