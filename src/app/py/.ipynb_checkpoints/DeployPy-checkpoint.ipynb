{
 "cells": [
  {
   "cell_type": "code",
   "execution_count": 13,
   "id": "a82b7bfe",
   "metadata": {},
   "outputs": [],
   "source": [
    "from flask import Flask, jsonify\n",
    "import pandas as pd\n",
    "import numpy as np\n",
    "from sklearn.metrics.pairwise import cosine_similarity"
   ]
  },
  {
   "cell_type": "code",
   "execution_count": 14,
   "id": "2323fbbb",
   "metadata": {},
   "outputs": [],
   "source": [
    "df = pd.read_csv('comment.csv')\n"
   ]
  },
  {
   "cell_type": "code",
   "execution_count": null,
   "id": "2d3baff2",
   "metadata": {},
   "outputs": [],
   "source": [
    "\n"
   ]
  },
  {
   "cell_type": "code",
   "execution_count": 15,
   "id": "f71c4ff7",
   "metadata": {},
   "outputs": [],
   "source": [
    "def recommend_products(user_id):\n",
    "    selected_columns = ['user_id', 'product_id', 'rating']\n",
    "    new_df = df[selected_columns]\n",
    "    new_df = new_df.drop_duplicates(['user_id', 'product_id', 'rating'])\n",
    "    new_df['rating'] = new_df['rating'].astype(float)  # Convert rating column to float\n",
    "    # Reset user_id and product_id to sequential numbers starting from 1\n",
    "    new_df['user_id'] = new_df['user_id'].astype('category').cat.codes + 1\n",
    "    new_df['product_id'] = new_df['product_id'].astype('category').cat.codes + 1\n",
    "    new_df = new_df.sort_values('user_id')\n",
    "    pivot_df = new_df.pivot(index='user_id', columns='product_id', values='rating')\n",
    "    # Reset the column names\n",
    "    pivot_df.columns.name = None\n",
    "    # Reset the index name\n",
    "    pivot_df.index.name = None\n",
    "    # Calculate the average rating for each product\n",
    "    product_avg = pivot_df.mean(axis=0)\n",
    "    # Fill NaN values with 0\n",
    "    pivot_df = pivot_df.fillna(0)\n",
    "    # Calculate the user-product matrix by subtracting the product average from each rating\n",
    "    matrix_avg = pivot_df.sub(product_avg, axis=1)\n",
    "    # Calculate the cosine similarity matrix\n",
    "    similarity = cosine_similarity(matrix_avg)\n",
    "    # Get the row of the similarity matrix corresponding to the user\n",
    "    user_similarity = similarity[user_id-1]\n",
    "    # Find the top n similar users\n",
    "    similar_users = user_similarity.argsort()[:-2-1:-1]\n",
    "    # Find the products that the user has not rated\n",
    "    unrated_products = pivot_df.loc[user_id][pivot_df.loc[user_id] == 0].index\n",
    "    # Calculate the predicted rating for each unrated product\n",
    "    product_predictions = {}\n",
    "    for product in unrated_products:\n",
    "        product_ratings = matrix_avg[product].values\n",
    "        # Only consider ratings from similar users\n",
    "        similar_ratings = product_ratings[similar_users]\n",
    "        # Ignore ratings of 0 (unrated products)\n",
    "        similar_ratings = similar_ratings[similar_ratings != 0]\n",
    "        if len(similar_ratings) > 0:\n",
    "            # Calculate the predicted rating as the weighted average of similar ratings\n",
    "            weights = user_similarity[similar_users][similar_ratings.nonzero()]\n",
    "            prediction = (similar_ratings * weights).sum() / weights.sum()\n",
    "            product_predictions[product] = prediction\n",
    "    # Return the top n predicted products\n",
    "    recommended_products = sorted(\n",
    "        product_predictions, key=product_predictions.get, reverse=True)\n",
    "    # return recommended_products\n",
    "    return recommended_products\n"
   ]
  },
  {
   "cell_type": "code",
   "execution_count": 16,
   "id": "3e58aa22",
   "metadata": {},
   "outputs": [
    {
     "ename": "UnboundLocalError",
     "evalue": "local variable 'df' referenced before assignment",
     "output_type": "error",
     "traceback": [
      "\u001b[1;31m---------------------------------------------------------------------------\u001b[0m",
      "\u001b[1;31mUnboundLocalError\u001b[0m                         Traceback (most recent call last)",
      "Cell \u001b[1;32mIn [16], line 2\u001b[0m\n\u001b[0;32m      1\u001b[0m \u001b[38;5;28;01mfor\u001b[39;00m i \u001b[38;5;129;01min\u001b[39;00m \u001b[38;5;28mrange\u001b[39m(\u001b[38;5;241m1\u001b[39m, \u001b[38;5;241m8\u001b[39m):\n\u001b[1;32m----> 2\u001b[0m     recommended_products \u001b[38;5;241m=\u001b[39m \u001b[43mrecommend_products\u001b[49m\u001b[43m(\u001b[49m\u001b[43mi\u001b[49m\u001b[43m)\u001b[49m\n\u001b[0;32m      3\u001b[0m     \u001b[38;5;28mprint\u001b[39m(\u001b[38;5;124mf\u001b[39m\u001b[38;5;124m\"\u001b[39m\u001b[38;5;124mUser ID: \u001b[39m\u001b[38;5;132;01m{\u001b[39;00mi\u001b[38;5;132;01m}\u001b[39;00m\u001b[38;5;124m, Recommended Products: \u001b[39m\u001b[38;5;132;01m{\u001b[39;00mrecommended_products\u001b[38;5;132;01m}\u001b[39;00m\u001b[38;5;124m\"\u001b[39m)\n",
      "Cell \u001b[1;32mIn [15], line 3\u001b[0m, in \u001b[0;36mrecommend_products\u001b[1;34m(user_id)\u001b[0m\n\u001b[0;32m      1\u001b[0m \u001b[38;5;28;01mdef\u001b[39;00m \u001b[38;5;21mrecommend_products\u001b[39m(user_id):\n\u001b[0;32m      2\u001b[0m     selected_columns \u001b[38;5;241m=\u001b[39m [\u001b[38;5;124m'\u001b[39m\u001b[38;5;124muser_id\u001b[39m\u001b[38;5;124m'\u001b[39m, \u001b[38;5;124m'\u001b[39m\u001b[38;5;124mproduct_id\u001b[39m\u001b[38;5;124m'\u001b[39m, \u001b[38;5;124m'\u001b[39m\u001b[38;5;124mrating\u001b[39m\u001b[38;5;124m'\u001b[39m]\n\u001b[1;32m----> 3\u001b[0m     df \u001b[38;5;241m=\u001b[39m \u001b[43mdf\u001b[49m[selected_columns]\n\u001b[0;32m      4\u001b[0m     df \u001b[38;5;241m=\u001b[39m df\u001b[38;5;241m.\u001b[39mdrop_duplicates([\u001b[38;5;124m'\u001b[39m\u001b[38;5;124muser_id\u001b[39m\u001b[38;5;124m'\u001b[39m, \u001b[38;5;124m'\u001b[39m\u001b[38;5;124mproduct_id\u001b[39m\u001b[38;5;124m'\u001b[39m, \u001b[38;5;124m'\u001b[39m\u001b[38;5;124mrating\u001b[39m\u001b[38;5;124m'\u001b[39m])\n\u001b[0;32m      5\u001b[0m     df[\u001b[38;5;124m'\u001b[39m\u001b[38;5;124mrating\u001b[39m\u001b[38;5;124m'\u001b[39m] \u001b[38;5;241m=\u001b[39m df[\u001b[38;5;124m'\u001b[39m\u001b[38;5;124mrating\u001b[39m\u001b[38;5;124m'\u001b[39m]\u001b[38;5;241m.\u001b[39mastype(\u001b[38;5;28mfloat\u001b[39m)  \u001b[38;5;66;03m# Convert rating column to float\u001b[39;00m\n",
      "\u001b[1;31mUnboundLocalError\u001b[0m: local variable 'df' referenced before assignment"
     ]
    }
   ],
   "source": [
    "for i in range(1, 8):\n",
    "    recommended_products = recommend_products(i)\n",
    "    print(f\"User ID: {i}, Recommended Products: {recommended_products}\")"
   ]
  },
  {
   "cell_type": "code",
   "execution_count": null,
   "id": "ba21489b",
   "metadata": {},
   "outputs": [],
   "source": []
  },
  {
   "cell_type": "code",
   "execution_count": null,
   "id": "1cdec53d",
   "metadata": {},
   "outputs": [],
   "source": []
  },
  {
   "cell_type": "code",
   "execution_count": null,
   "id": "4bb5db13",
   "metadata": {},
   "outputs": [],
   "source": []
  },
  {
   "cell_type": "code",
   "execution_count": null,
   "id": "6e42390b",
   "metadata": {},
   "outputs": [],
   "source": []
  }
 ],
 "metadata": {
  "kernelspec": {
   "display_name": "Python 3 (ipykernel)",
   "language": "python",
   "name": "python3"
  },
  "language_info": {
   "codemirror_mode": {
    "name": "ipython",
    "version": 3
   },
   "file_extension": ".py",
   "mimetype": "text/x-python",
   "name": "python",
   "nbconvert_exporter": "python",
   "pygments_lexer": "ipython3",
   "version": "3.10.7"
  }
 },
 "nbformat": 4,
 "nbformat_minor": 5
}
